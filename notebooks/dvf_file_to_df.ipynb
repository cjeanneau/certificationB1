{
 "cells": [
  {
   "cell_type": "code",
   "execution_count": 1,
   "id": "a82aa594-7300-4144-9b62-89013ba36dc2",
   "metadata": {},
   "outputs": [],
   "source": [
    "import os\n",
    "import pandas as pd\n",
    "\n",
    "filename = \"ValeursFoncieres-2024.txt\"\n",
    "file_path = os.path.join(os.getcwd(), \"..\", \"data\", filename)"
   ]
  },
  {
   "cell_type": "code",
   "execution_count": 2,
   "id": "ccc9d042-3a27-4a81-83b7-dc02e26543be",
   "metadata": {},
   "outputs": [
    {
     "name": "stdout",
     "output_type": "stream",
     "text": [
      "<class 'pandas.core.frame.DataFrame'>\n",
      "RangeIndex: 3458643 entries, 0 to 3458642\n",
      "Data columns (total 20 columns):\n",
      " #   Column                     Dtype  \n",
      "---  ------                     -----  \n",
      " 0   Date mutation              object \n",
      " 1   Nature mutation            object \n",
      " 2   Valeur fonciere            float32\n",
      " 3   No voie                    object \n",
      " 4   B/T/Q                      object \n",
      " 5   Type de voie               object \n",
      " 6   Code voie                  object \n",
      " 7   Voie                       object \n",
      " 8   Code postal                object \n",
      " 9   Commune                    object \n",
      " 10  Code departement           object \n",
      " 11  Code commune               object \n",
      " 12  Prefixe de section         object \n",
      " 13  Section                    object \n",
      " 14  No plan                    Int16  \n",
      " 15  Code type local            Int8   \n",
      " 16  Type local                 object \n",
      " 17  Surface reelle bati        Int32  \n",
      " 18  Nombre pieces principales  Int8   \n",
      " 19  Surface terrain            Int32  \n",
      "dtypes: Int16(1), Int32(2), Int8(2), float32(1), object(14)\n",
      "memory usage: 438.7+ MB\n"
     ]
    }
   ],
   "source": [
    "# On charge le fichier dans un dataframe pandas\n",
    "col_to_keep = [\n",
    "    'Date mutation',\n",
    "    'Nature mutation',\n",
    "    'Valeur fonciere',\n",
    "    'No voie',\n",
    "    'B/T/Q',\n",
    "    'Type de voie',\n",
    "    'Code voie',\n",
    "    'Voie',\n",
    "    'Code postal',\n",
    "    'Commune',\n",
    "    'Code departement',\n",
    "    'Code commune',\n",
    "    'Prefixe de section',\n",
    "    'Section',\n",
    "    'No plan',\n",
    "    'Code type local',\n",
    "    'Type local',\n",
    "    'Surface reelle bati',\n",
    "    'Nombre pieces principales',\n",
    "    'Surface terrain'\n",
    "]\n",
    "col_type = {\n",
    "    'Nature mutation' : 'object',\n",
    "    'Valeur fonciere' : 'float32',\n",
    "    'No voie' : 'object',\n",
    "    'B/T/Q' : 'object',\n",
    "    'Type de voie' : 'object',\n",
    "    'Code voie' : 'object',\n",
    "    'Voie' : 'object',\n",
    "    'Code postal' : 'object',\n",
    "    'Commune' : 'object',\n",
    "    'Code departement' : 'object',\n",
    "    'Code commune' : 'object',\n",
    "    'Prefixe de section' : 'object',\n",
    "    'Section' : 'object',\n",
    "    'No plan' : 'Int16',\n",
    "    'Code type local' : 'Int8',\n",
    "    'Type local' : 'object',\n",
    "    'Surface reelle bati' : 'Int32',\n",
    "    'Nombre pieces principales' : 'Int8',\n",
    "    'Surface terrain' : 'Int32'\n",
    "}\n",
    "df = pd.read_csv(\n",
    "    file_path,\n",
    "    sep='|',\n",
    "    decimal=',',\n",
    "    usecols=col_to_keep,\n",
    "    dtype=col_type,\n",
    "    parse_dates=['Date mutation'],\n",
    "    na_values=['NULL', '']\n",
    "    )\n",
    "\n",
    "# Quelques infos générales dont la taille \n",
    "df.info()"
   ]
  },
  {
   "cell_type": "code",
   "execution_count": 5,
   "id": "41dd40a9-0e7e-4f79-86f9-57614de594b0",
   "metadata": {},
   "outputs": [
    {
     "name": "stdout",
     "output_type": "stream",
     "text": [
      "Nb lignes avant nettoyage : (3458643, 20)\n",
      "Nb lignes après nettoyage : (3410882, 20)\n"
     ]
    }
   ],
   "source": [
    "# Les échanges ne nous intéressent pas ici\n",
    "print(f\"Nb lignes avant nettoyage : {df.shape}\")\n",
    "df = df[df['Nature mutation'] != 'Echange']\n",
    "print(f\"Nb lignes après nettoyage : {df.shape}\")"
   ]
  },
  {
   "cell_type": "code",
   "execution_count": 6,
   "id": "804677f9-3227-42de-a23c-46821a35acb6",
   "metadata": {},
   "outputs": [
    {
     "name": "stdout",
     "output_type": "stream",
     "text": [
      "3410882\n",
      "3378011\n"
     ]
    }
   ],
   "source": [
    "# on élimine les lignes dont les valeurs foncieres sont manquantes\n",
    "print(len(df))\n",
    "df = df[df['Valeur fonciere'].notna()]\n",
    "print(len(df))"
   ]
  },
  {
   "cell_type": "code",
   "execution_count": 7,
   "id": "bc9d16cf-8d93-4c97-801e-c28114d53a3d",
   "metadata": {},
   "outputs": [],
   "source": [
    "df['Valeur fonciere'] = df['Valeur fonciere'].astype('int32')"
   ]
  },
  {
   "cell_type": "code",
   "execution_count": 8,
   "id": "c81edef2-9b7c-405b-84e0-81e2b10d4535",
   "metadata": {},
   "outputs": [
    {
     "name": "stdout",
     "output_type": "stream",
     "text": [
      "\n",
      "Nombre de lignes en double avant suppression : 485649\n",
      "Nombre de lignes en double après suppression : 0\n",
      "Nombre de lignes après suppression des doublons : 2892362\n"
     ]
    }
   ],
   "source": [
    "print(f\"\\nNombre de lignes en double avant suppression : {df.duplicated().sum()}\")\n",
    "\n",
    "# Supprimer les doublons (conserver la première occurrence)\n",
    "df = df.drop_duplicates()\n",
    "\n",
    "print(f\"Nombre de lignes en double après suppression : {df.duplicated().sum()}\")\n",
    "print(f\"Nombre de lignes après suppression des doublons : {df.shape[0]}\")"
   ]
  },
  {
   "cell_type": "code",
   "execution_count": 9,
   "id": "4f1a82ec-dea3-4915-9743-6234ae72d31a",
   "metadata": {},
   "outputs": [],
   "source": [
    "# On va compléter les Nan des Surfaces et nombre de pieces par 0\n",
    "df.loc[:, 'Surface reelle bati'] = df['Surface reelle bati'].fillna(0)\n",
    "df.loc[:, 'Surface terrain'] = df['Surface terrain'].fillna(0)\n",
    "df.loc[:, 'Nombre pieces principales'] = df['Nombre pieces principales'].fillna(0)\n",
    "\n",
    "# De même sur la colonne B/T/Q par un champ vide\n",
    "df.loc[:, 'B/T/Q'] = df['B/T/Q'].fillna('')\n",
    "df.loc[:, 'No voie'] = df['No voie'].fillna('')\n",
    "df.loc[:, 'Type de voie'] = df['Type de voie'].fillna('')\n",
    "df.loc[:, 'Voie'] = df['Voie'].fillna('')\n",
    "df.loc[:, 'Code postal'] = df['Code postal'].fillna('')\n",
    "df.loc[:, 'Prefixe de section'] = df['Prefixe de section'].fillna('')\n",
    "df.loc[:, 'Section'] = df['Section'].fillna('')"
   ]
  },
  {
   "cell_type": "code",
   "execution_count": 10,
   "id": "b371de10-89e8-42f2-aa78-5ebb6a9a8921",
   "metadata": {},
   "outputs": [
    {
     "name": "stdout",
     "output_type": "stream",
     "text": [
      "nb lignes avant :  2892362\n",
      "nb lignes apres :  1030477\n"
     ]
    }
   ],
   "source": [
    "# On a constaté dans le notebook que e prix d'un terrain étant insignifiant dans le prix d'un bien immobilier,\n",
    "# nous allons supprimer les lignes : \n",
    "#     dont le type de local est Nan car ils n'ont pas de surface bati \n",
    "#     dont le type de local est Dépendances car ils n'ont que des que des surfaces de terrain.\n",
    "#     et les lignes dont la surface reelle bati est nulle\n",
    "# Ce choix est propre au projet qui ne concernera que les investissmeent en surface bati soit :  maisons, appartements et locaux industriels \n",
    "print(\"nb lignes avant : \", df.shape[0])\n",
    "filtre = (df['Type local'].isna()) | (df['Type local'] == 'Dépendance') \n",
    "df = df[~filtre]\n",
    "print(\"nb lignes apres : \", df.shape[0])"
   ]
  },
  {
   "cell_type": "code",
   "execution_count": 11,
   "id": "d926c948-e79f-4ff5-9c6c-2443ac37039f",
   "metadata": {},
   "outputs": [
    {
     "data": {
      "text/plain": [
       "1030477"
      ]
     },
     "execution_count": 11,
     "metadata": {},
     "output_type": "execute_result"
    }
   ],
   "source": [
    "df.shape[0]"
   ]
  },
  {
   "cell_type": "code",
   "execution_count": 12,
   "id": "011782f6-1d1e-41a9-92f7-f4b5018b3c9d",
   "metadata": {},
   "outputs": [],
   "source": [
    "# On regroupe les transactions par date et valeurs et on crée un id_transaction pour chacun de ces couples\n",
    "df.loc[:, 'Date mutation'] = pd.to_datetime(df['Date mutation'], format='%d/%m/%Y', errors='coerce') # on s'assure que toutes les dates soient au même format pour le tri, c'est mieux !\n",
    "df = df.sort_values(by=['Date mutation', 'Valeur fonciere', 'Code departement', 'Code commune']).reset_index(drop=True) \n",
    "col_id_transaction = df.groupby(['Date mutation', 'Valeur fonciere', 'Code departement', 'Code commune', 'Code voie']).ngroup()\n",
    "df.insert(loc=0, column='id_transaction', value=col_id_transaction)"
   ]
  },
  {
   "cell_type": "code",
   "execution_count": 13,
   "id": "96711633-188c-4880-9fc2-44d01adc02d1",
   "metadata": {},
   "outputs": [
    {
     "data": {
      "text/html": [
       "<div>\n",
       "<style scoped>\n",
       "    .dataframe tbody tr th:only-of-type {\n",
       "        vertical-align: middle;\n",
       "    }\n",
       "\n",
       "    .dataframe tbody tr th {\n",
       "        vertical-align: top;\n",
       "    }\n",
       "\n",
       "    .dataframe thead th {\n",
       "        text-align: right;\n",
       "    }\n",
       "</style>\n",
       "<table border=\"1\" class=\"dataframe\">\n",
       "  <thead>\n",
       "    <tr style=\"text-align: right;\">\n",
       "      <th></th>\n",
       "      <th>id_transaction</th>\n",
       "      <th>Date mutation</th>\n",
       "      <th>Nature mutation</th>\n",
       "      <th>Valeur fonciere</th>\n",
       "      <th>No voie</th>\n",
       "      <th>B/T/Q</th>\n",
       "      <th>Type de voie</th>\n",
       "      <th>Code voie</th>\n",
       "      <th>Voie</th>\n",
       "      <th>Code postal</th>\n",
       "      <th>...</th>\n",
       "      <th>Code departement</th>\n",
       "      <th>Code commune</th>\n",
       "      <th>Prefixe de section</th>\n",
       "      <th>Section</th>\n",
       "      <th>No plan</th>\n",
       "      <th>Code type local</th>\n",
       "      <th>Type local</th>\n",
       "      <th>Surface reelle bati</th>\n",
       "      <th>Nombre pieces principales</th>\n",
       "      <th>Surface terrain</th>\n",
       "    </tr>\n",
       "  </thead>\n",
       "  <tbody>\n",
       "    <tr>\n",
       "      <th>0</th>\n",
       "      <td>0</td>\n",
       "      <td>2024-01-01 00:00:00</td>\n",
       "      <td>Vente</td>\n",
       "      <td>1</td>\n",
       "      <td>57</td>\n",
       "      <td></td>\n",
       "      <td>RUE</td>\n",
       "      <td>1725</td>\n",
       "      <td>EMILE MONTEGUT</td>\n",
       "      <td>87000</td>\n",
       "      <td>...</td>\n",
       "      <td>87</td>\n",
       "      <td>85</td>\n",
       "      <td></td>\n",
       "      <td>IN</td>\n",
       "      <td>365</td>\n",
       "      <td>1</td>\n",
       "      <td>Maison</td>\n",
       "      <td>91</td>\n",
       "      <td>4</td>\n",
       "      <td>4795</td>\n",
       "    </tr>\n",
       "    <tr>\n",
       "      <th>1</th>\n",
       "      <td>0</td>\n",
       "      <td>2024-01-01 00:00:00</td>\n",
       "      <td>Vente</td>\n",
       "      <td>1</td>\n",
       "      <td>39</td>\n",
       "      <td></td>\n",
       "      <td>RUE</td>\n",
       "      <td>1725</td>\n",
       "      <td>EMILE MONTEGUT</td>\n",
       "      <td>87000</td>\n",
       "      <td>...</td>\n",
       "      <td>87</td>\n",
       "      <td>85</td>\n",
       "      <td></td>\n",
       "      <td>IN</td>\n",
       "      <td>366</td>\n",
       "      <td>4</td>\n",
       "      <td>Local industriel. commercial ou assimilé</td>\n",
       "      <td>3958</td>\n",
       "      <td>0</td>\n",
       "      <td>6677</td>\n",
       "    </tr>\n",
       "    <tr>\n",
       "      <th>2</th>\n",
       "      <td>1</td>\n",
       "      <td>2024-01-02 00:00:00</td>\n",
       "      <td>Vente</td>\n",
       "      <td>500</td>\n",
       "      <td>5113</td>\n",
       "      <td></td>\n",
       "      <td></td>\n",
       "      <td>B106</td>\n",
       "      <td>LE PIN</td>\n",
       "      <td>43230</td>\n",
       "      <td>...</td>\n",
       "      <td>43</td>\n",
       "      <td>100</td>\n",
       "      <td></td>\n",
       "      <td>AL</td>\n",
       "      <td>272</td>\n",
       "      <td>1</td>\n",
       "      <td>Maison</td>\n",
       "      <td>70</td>\n",
       "      <td>2</td>\n",
       "      <td>115</td>\n",
       "    </tr>\n",
       "    <tr>\n",
       "      <th>3</th>\n",
       "      <td>2</td>\n",
       "      <td>2024-01-02 00:00:00</td>\n",
       "      <td>Vente</td>\n",
       "      <td>1666</td>\n",
       "      <td>209</td>\n",
       "      <td></td>\n",
       "      <td>RUE</td>\n",
       "      <td>0120</td>\n",
       "      <td>DES FORTS</td>\n",
       "      <td>88160</td>\n",
       "      <td>...</td>\n",
       "      <td>88</td>\n",
       "      <td>468</td>\n",
       "      <td></td>\n",
       "      <td>E</td>\n",
       "      <td>208</td>\n",
       "      <td>4</td>\n",
       "      <td>Local industriel. commercial ou assimilé</td>\n",
       "      <td>165</td>\n",
       "      <td>0</td>\n",
       "      <td>0</td>\n",
       "    </tr>\n",
       "    <tr>\n",
       "      <th>4</th>\n",
       "      <td>3</td>\n",
       "      <td>2024-01-02 00:00:00</td>\n",
       "      <td>Vente</td>\n",
       "      <td>2500</td>\n",
       "      <td>26</td>\n",
       "      <td></td>\n",
       "      <td>RUE</td>\n",
       "      <td>0330</td>\n",
       "      <td>DU DOC ROUX</td>\n",
       "      <td>3600</td>\n",
       "      <td>...</td>\n",
       "      <td>03</td>\n",
       "      <td>82</td>\n",
       "      <td></td>\n",
       "      <td>AE</td>\n",
       "      <td>281</td>\n",
       "      <td>1</td>\n",
       "      <td>Maison</td>\n",
       "      <td>28</td>\n",
       "      <td>2</td>\n",
       "      <td>60</td>\n",
       "    </tr>\n",
       "  </tbody>\n",
       "</table>\n",
       "<p>5 rows × 21 columns</p>\n",
       "</div>"
      ],
      "text/plain": [
       "   id_transaction        Date mutation Nature mutation  Valeur fonciere  \\\n",
       "0               0  2024-01-01 00:00:00           Vente                1   \n",
       "1               0  2024-01-01 00:00:00           Vente                1   \n",
       "2               1  2024-01-02 00:00:00           Vente              500   \n",
       "3               2  2024-01-02 00:00:00           Vente             1666   \n",
       "4               3  2024-01-02 00:00:00           Vente             2500   \n",
       "\n",
       "  No voie B/T/Q Type de voie Code voie            Voie Code postal  ...  \\\n",
       "0      57                RUE      1725  EMILE MONTEGUT       87000  ...   \n",
       "1      39                RUE      1725  EMILE MONTEGUT       87000  ...   \n",
       "2    5113                         B106          LE PIN       43230  ...   \n",
       "3     209                RUE      0120       DES FORTS       88160  ...   \n",
       "4      26                RUE      0330     DU DOC ROUX        3600  ...   \n",
       "\n",
       "  Code departement Code commune Prefixe de section Section No plan  \\\n",
       "0               87           85                         IN     365   \n",
       "1               87           85                         IN     366   \n",
       "2               43          100                         AL     272   \n",
       "3               88          468                          E     208   \n",
       "4               03           82                         AE     281   \n",
       "\n",
       "   Code type local                                Type local  \\\n",
       "0                1                                    Maison   \n",
       "1                4  Local industriel. commercial ou assimilé   \n",
       "2                1                                    Maison   \n",
       "3                4  Local industriel. commercial ou assimilé   \n",
       "4                1                                    Maison   \n",
       "\n",
       "  Surface reelle bati  Nombre pieces principales  Surface terrain  \n",
       "0                  91                          4             4795  \n",
       "1                3958                          0             6677  \n",
       "2                  70                          2              115  \n",
       "3                 165                          0                0  \n",
       "4                  28                          2               60  \n",
       "\n",
       "[5 rows x 21 columns]"
      ]
     },
     "execution_count": 13,
     "metadata": {},
     "output_type": "execute_result"
    }
   ],
   "source": [
    "\n",
    "df.head()"
   ]
  },
  {
   "cell_type": "code",
   "execution_count": 14,
   "id": "498a42e9-a539-4116-b2b0-7cae731e0b7a",
   "metadata": {},
   "outputs": [
    {
     "data": {
      "text/html": [
       "<div>\n",
       "<style scoped>\n",
       "    .dataframe tbody tr th:only-of-type {\n",
       "        vertical-align: middle;\n",
       "    }\n",
       "\n",
       "    .dataframe tbody tr th {\n",
       "        vertical-align: top;\n",
       "    }\n",
       "\n",
       "    .dataframe thead th {\n",
       "        text-align: right;\n",
       "    }\n",
       "</style>\n",
       "<table border=\"1\" class=\"dataframe\">\n",
       "  <thead>\n",
       "    <tr style=\"text-align: right;\">\n",
       "      <th></th>\n",
       "      <th>id_transaction</th>\n",
       "      <th>Valeur fonciere</th>\n",
       "      <th>No plan</th>\n",
       "      <th>Code type local</th>\n",
       "      <th>Surface reelle bati</th>\n",
       "      <th>Nombre pieces principales</th>\n",
       "      <th>Surface terrain</th>\n",
       "    </tr>\n",
       "  </thead>\n",
       "  <tbody>\n",
       "    <tr>\n",
       "      <th>count</th>\n",
       "      <td>1.030477e+06</td>\n",
       "      <td>1.030477e+06</td>\n",
       "      <td>1030477.0</td>\n",
       "      <td>1030477.0</td>\n",
       "      <td>1030477.0</td>\n",
       "      <td>1030477.0</td>\n",
       "      <td>1030477.0</td>\n",
       "    </tr>\n",
       "    <tr>\n",
       "      <th>mean</th>\n",
       "      <td>4.156373e+05</td>\n",
       "      <td>5.144428e+05</td>\n",
       "      <td>371.11616</td>\n",
       "      <td>1.660042</td>\n",
       "      <td>119.603091</td>\n",
       "      <td>3.171954</td>\n",
       "      <td>734.339376</td>\n",
       "    </tr>\n",
       "    <tr>\n",
       "      <th>std</th>\n",
       "      <td>2.398522e+05</td>\n",
       "      <td>3.406559e+06</td>\n",
       "      <td>544.588033</td>\n",
       "      <td>0.876225</td>\n",
       "      <td>892.524517</td>\n",
       "      <td>1.82674</td>\n",
       "      <td>7722.613831</td>\n",
       "    </tr>\n",
       "    <tr>\n",
       "      <th>min</th>\n",
       "      <td>0.000000e+00</td>\n",
       "      <td>0.000000e+00</td>\n",
       "      <td>1.0</td>\n",
       "      <td>1.0</td>\n",
       "      <td>0.0</td>\n",
       "      <td>-58.0</td>\n",
       "      <td>0.0</td>\n",
       "    </tr>\n",
       "    <tr>\n",
       "      <th>25%</th>\n",
       "      <td>2.073040e+05</td>\n",
       "      <td>1.165000e+05</td>\n",
       "      <td>79.0</td>\n",
       "      <td>1.0</td>\n",
       "      <td>50.0</td>\n",
       "      <td>2.0</td>\n",
       "      <td>0.0</td>\n",
       "    </tr>\n",
       "    <tr>\n",
       "      <th>50%</th>\n",
       "      <td>4.153990e+05</td>\n",
       "      <td>1.929000e+05</td>\n",
       "      <td>197.0</td>\n",
       "      <td>1.0</td>\n",
       "      <td>77.0</td>\n",
       "      <td>3.0</td>\n",
       "      <td>195.0</td>\n",
       "    </tr>\n",
       "    <tr>\n",
       "      <th>75%</th>\n",
       "      <td>6.242830e+05</td>\n",
       "      <td>3.190000e+05</td>\n",
       "      <td>440.0</td>\n",
       "      <td>2.0</td>\n",
       "      <td>106.0</td>\n",
       "      <td>4.0</td>\n",
       "      <td>606.0</td>\n",
       "    </tr>\n",
       "    <tr>\n",
       "      <th>max</th>\n",
       "      <td>8.274560e+05</td>\n",
       "      <td>2.550000e+08</td>\n",
       "      <td>8395.0</td>\n",
       "      <td>4.0</td>\n",
       "      <td>265000.0</td>\n",
       "      <td>73.0</td>\n",
       "      <td>2960000.0</td>\n",
       "    </tr>\n",
       "  </tbody>\n",
       "</table>\n",
       "</div>"
      ],
      "text/plain": [
       "       id_transaction  Valeur fonciere     No plan  Code type local  \\\n",
       "count    1.030477e+06     1.030477e+06   1030477.0        1030477.0   \n",
       "mean     4.156373e+05     5.144428e+05   371.11616         1.660042   \n",
       "std      2.398522e+05     3.406559e+06  544.588033         0.876225   \n",
       "min      0.000000e+00     0.000000e+00         1.0              1.0   \n",
       "25%      2.073040e+05     1.165000e+05        79.0              1.0   \n",
       "50%      4.153990e+05     1.929000e+05       197.0              1.0   \n",
       "75%      6.242830e+05     3.190000e+05       440.0              2.0   \n",
       "max      8.274560e+05     2.550000e+08      8395.0              4.0   \n",
       "\n",
       "       Surface reelle bati  Nombre pieces principales  Surface terrain  \n",
       "count            1030477.0                  1030477.0        1030477.0  \n",
       "mean            119.603091                   3.171954       734.339376  \n",
       "std             892.524517                    1.82674      7722.613831  \n",
       "min                    0.0                      -58.0              0.0  \n",
       "25%                   50.0                        2.0              0.0  \n",
       "50%                   77.0                        3.0            195.0  \n",
       "75%                  106.0                        4.0            606.0  \n",
       "max               265000.0                       73.0        2960000.0  "
      ]
     },
     "execution_count": 14,
     "metadata": {},
     "output_type": "execute_result"
    }
   ],
   "source": [
    "df.describe()"
   ]
  },
  {
   "cell_type": "code",
   "execution_count": 15,
   "id": "e4864efe-e705-4d2b-aff4-4868a97dbaa5",
   "metadata": {},
   "outputs": [
    {
     "data": {
      "text/plain": [
       "id_transaction               0\n",
       "Date mutation                0\n",
       "Nature mutation              0\n",
       "Valeur fonciere              0\n",
       "No voie                      0\n",
       "B/T/Q                        0\n",
       "Type de voie                 0\n",
       "Code voie                    0\n",
       "Voie                         0\n",
       "Code postal                  0\n",
       "Commune                      0\n",
       "Code departement             0\n",
       "Code commune                 0\n",
       "Prefixe de section           0\n",
       "Section                      0\n",
       "No plan                      0\n",
       "Code type local              0\n",
       "Type local                   0\n",
       "Surface reelle bati          0\n",
       "Nombre pieces principales    0\n",
       "Surface terrain              0\n",
       "dtype: int64"
      ]
     },
     "execution_count": 15,
     "metadata": {},
     "output_type": "execute_result"
    }
   ],
   "source": [
    "df.isna().sum()"
   ]
  },
  {
   "cell_type": "code",
   "execution_count": null,
   "id": "01cf8ee1-5f69-42bb-9406-a786a65d70f4",
   "metadata": {},
   "outputs": [],
   "source": []
  },
  {
   "cell_type": "code",
   "execution_count": null,
   "id": "938215db-ad64-4c1c-9d73-a5ba74c9722b",
   "metadata": {},
   "outputs": [],
   "source": []
  },
  {
   "cell_type": "code",
   "execution_count": 16,
   "id": "f9890374-3c62-46d0-9997-a1896ef12f45",
   "metadata": {},
   "outputs": [],
   "source": [
    "# On ne garde que les transactions avec une ligne unique car il y a souvent les memes biens qui apparaissent 2 fois sur la même transaction\n",
    "# Sans doute dû à des corrections dans les champs.\n",
    "id_transaction_count = df['id_transaction'].value_counts()\n",
    "unique_id_transactions_values = id_transaction_count[id_transaction_count == 1].index\n",
    "unique_id_transactions_list = unique_id_transactions_values.tolist()\n",
    "\n",
    "df =  df[df['id_transaction'].isin(unique_id_transactions_list)]"
   ]
  },
  {
   "cell_type": "code",
   "execution_count": 17,
   "id": "e05262f4-4686-4358-b9be-2837b26ebd1d",
   "metadata": {},
   "outputs": [
    {
     "data": {
      "text/plain": [
       "(695669, 21)"
      ]
     },
     "execution_count": 17,
     "metadata": {},
     "output_type": "execute_result"
    }
   ],
   "source": [
    "df.shape"
   ]
  },
  {
   "cell_type": "code",
   "execution_count": null,
   "id": "0df5b5b5-c9e9-4843-849c-1ea61365efa9",
   "metadata": {},
   "outputs": [],
   "source": []
  },
  {
   "cell_type": "code",
   "execution_count": null,
   "id": "c01b80d5-02a6-41a8-98e8-e00c60402ac6",
   "metadata": {},
   "outputs": [],
   "source": []
  },
  {
   "cell_type": "code",
   "execution_count": 18,
   "id": "3dba1ac6-b17d-4c04-a0df-965d372bdfb6",
   "metadata": {},
   "outputs": [
    {
     "name": "stdout",
     "output_type": "stream",
     "text": [
      "Nombre de valeur fonciere <= 1€ :  1109\n",
      "694560\n"
     ]
    }
   ],
   "source": [
    "# On efface les lignes dont la valeur fonciere est inférieure à 1€ car ce n'est pas représentatif.\n",
    "# On pourra sans doute augmenter cette valeur autour de 1000€ ou plus\n",
    "filtre = df['Valeur fonciere'] <= 1\n",
    "print(\"Nombre de valeur fonciere <= 1€ : \", df[filtre].shape[0])\n",
    "df = df[~filtre]\n",
    "print(len(df))"
   ]
  },
  {
   "cell_type": "code",
   "execution_count": 19,
   "id": "c0b58d6d-a381-435b-82b1-082a5754374d",
   "metadata": {},
   "outputs": [
    {
     "name": "stdout",
     "output_type": "stream",
     "text": [
      "692448\n"
     ]
    }
   ],
   "source": [
    "# Et on retire les lignes dont la surface reelle bati est nulle car seul le bati nous interesse\n",
    "df = df[df['Surface reelle bati'] != 0]\n",
    "print(len(df))"
   ]
  },
  {
   "cell_type": "code",
   "execution_count": 20,
   "id": "28821de9-13fb-4278-abcf-6f19fde020d4",
   "metadata": {},
   "outputs": [
    {
     "name": "stdout",
     "output_type": "stream",
     "text": [
      "/Users/cyriljeanneau/Documents/02. Professionnel/00. Formation Dev IA/Projets/certificationB1/notebooks/../data/01_DVF/dvf_2024_cleaned.csv\n"
     ]
    }
   ],
   "source": [
    "output_file = \"dvf_2024_cleaned.csv\"\n",
    "file_path = os.path.join(os.getcwd(), \"..\", \"data\", \"01_DVF\", output_file)\n",
    "print(file_path)\n",
    "df.to_csv(file_path, index=False, sep=';')"
   ]
  },
  {
   "cell_type": "code",
   "execution_count": 21,
   "id": "7409c9f0-54e0-4250-98d8-ba48665d3150",
   "metadata": {},
   "outputs": [
    {
     "data": {
      "text/plain": [
       "101        1136.363636\n",
       "1050       3238.095238\n",
       "1415       1869.565217\n",
       "3297       5294.117647\n",
       "3571       3343.283582\n",
       "              ...     \n",
       "1026127    2575.757576\n",
       "1028503         3000.0\n",
       "1029034    2962.962963\n",
       "1029169    2032.967033\n",
       "1029845     991.735537\n",
       "Length: 1219, dtype: Float64"
      ]
     },
     "execution_count": 21,
     "metadata": {},
     "output_type": "execute_result"
    }
   ],
   "source": [
    "df[df['Code postal'] == '37000']['Valeur fonciere'] / df[df['Code postal'] == '37000']['Surface reelle bati']"
   ]
  },
  {
   "cell_type": "code",
   "execution_count": 3,
   "id": "226db8d1-414d-4c3d-bc88-0014e3b38656",
   "metadata": {},
   "outputs": [
    {
     "ename": "SyntaxError",
     "evalue": "incomplete input (2006401529.py, line 1)",
     "output_type": "error",
     "traceback": [
      "  \u001b[36mCell\u001b[39m\u001b[36m \u001b[39m\u001b[32mIn[3]\u001b[39m\u001b[32m, line 1\u001b[39m\n\u001b[31m    \u001b[39m\u001b[31mfor index, row in df.iterrows():\u001b[39m\n                                    ^\n\u001b[31mSyntaxError\u001b[39m\u001b[31m:\u001b[39m incomplete input\n"
     ]
    }
   ],
   "source": [
    "for index, row in df.iterrows():"
   ]
  },
  {
   "cell_type": "code",
   "execution_count": null,
   "id": "fbada8b7-a90e-4b69-9a56-6b0112be97c3",
   "metadata": {},
   "outputs": [],
   "source": []
  }
 ],
 "metadata": {
  "kernelspec": {
   "display_name": "Python 3 (ipykernel)",
   "language": "python",
   "name": "python3"
  },
  "language_info": {
   "codemirror_mode": {
    "name": "ipython",
    "version": 3
   },
   "file_extension": ".py",
   "mimetype": "text/x-python",
   "name": "python",
   "nbconvert_exporter": "python",
   "pygments_lexer": "ipython3",
   "version": "3.12.9"
  }
 },
 "nbformat": 4,
 "nbformat_minor": 5
}
